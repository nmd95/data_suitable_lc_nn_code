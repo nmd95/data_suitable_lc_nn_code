{
 "cells": [
  {
   "cell_type": "code",
   "execution_count": 2,
   "id": "b79ec5eb",
   "metadata": {},
   "outputs": [
    {
     "name": "stderr",
     "output_type": "stream",
     "text": [
      "/home/fodl/nimrodd_new/miniconda3/envs/req_test_env/lib/python3.9/site-packages/tqdm/auto.py:21: TqdmWarning: IProgress not found. Please update jupyter and ipywidgets. See https://ipywidgets.readthedocs.io/en/stable/user_install.html\n",
      "  from .autonotebook import tqdm as notebook_tqdm\n"
     ]
    }
   ],
   "source": [
    "# Import necessary libraries\n",
    "import os\n",
    "import shutil\n",
    "import torch\n",
    "import torch.nn as nn\n",
    "import torch.optim as optim\n",
    "import torchvision.transforms as transforms\n",
    "from torch.utils.data import DataLoader, TensorDataset\n",
    "from timm import create_model\n",
    "import pickle\n",
    "import random\n",
    "from data_utils import permute_elements"
   ]
  },
  {
   "cell_type": "markdown",
   "id": "7178a82f",
   "metadata": {},
   "source": [
    "# Utility functions:"
   ]
  },
  {
   "cell_type": "markdown",
   "id": "48c74ab4",
   "metadata": {},
   "source": [
    "## Function: load_and_permute_data\n",
    " This function loads data from the source folder, applies a random or custom permutation to the data,\n",
    " and saves the permuted data and labels to the destination folder."
   ]
  },
  {
   "cell_type": "code",
   "execution_count": 3,
   "id": "d2d6f5b3",
   "metadata": {},
   "outputs": [],
   "source": [
    "def load_and_permute_data(src_folder, dst_folder, perm_path=None):\n",
    "    # Generate a random permutation of the numbers from 0 to 1023 or load custom permutation\n",
    "    if perm_path:\n",
    "        with open(perm_path, 'rb') as f:\n",
    "            random_permutation = pickle.load(f)\n",
    "            print(f\"Loaded permutation from {perm_path}\")\n",
    "    else:\n",
    "        random_permutation = random.sample(range(1024), 1024)\n",
    "\n",
    "    # List of data and label file names\n",
    "    data_files = [\"train_data.pt\", \"test_data.pt\", \"val_data.pt\"]\n",
    "    label_files = [\"train_labels.pt\", \"test_labels.pt\", \"val_labels.pt\"]\n",
    "\n",
    "    # Load, permute and save data files\n",
    "    for data_file in data_files:\n",
    "        # Load the data tensor\n",
    "        data_tensor = torch.load(os.path.join(src_folder, data_file))\n",
    "\n",
    "        # Apply the permute_elements function\n",
    "        permuted_data_tensor = permute_elements(data_tensor, random_permutation)\n",
    "\n",
    "        # Save the permuted data tensor to the destination folder\n",
    "        torch.save(permuted_data_tensor, os.path.join(dst_folder, data_file))\n",
    "\n",
    "    # Load and save label files\n",
    "    for label_file in label_files:\n",
    "        # Load the label tensor\n",
    "        label_tensor = torch.load(os.path.join(src_folder, label_file))\n",
    "\n",
    "        # Save the label tensor to the destination folder\n",
    "        torch.save(label_tensor, os.path.join(dst_folder, label_file))"
   ]
  },
  {
   "cell_type": "markdown",
   "id": "89a0e9a0",
   "metadata": {},
   "source": [
    "## Function: load_data_and_labels\n",
    "This function loads data and labels from the source folder and returns them as tensors.\n"
   ]
  },
  {
   "cell_type": "code",
   "execution_count": 4,
   "id": "481883b2",
   "metadata": {},
   "outputs": [],
   "source": [
    "def load_data_and_labels(src_folder):\n",
    "    data_files = [\"train_data.pt\", \"test_data.pt\", \"val_data.pt\"]\n",
    "    label_files = [\"train_labels.pt\", \"test_labels.pt\", \"val_labels.pt\"]\n",
    "\n",
    "    data_tensors = []\n",
    "    label_tensors = []\n",
    "\n",
    "    for data_file, label_file in zip(data_files, label_files):\n",
    "        data_tensor = torch.load(os.path.join(src_folder, data_file))\n",
    "        label_tensor = torch.load(os.path.join(src_folder, label_file))\n",
    "\n",
    "        data_tensors.append(data_tensor)\n",
    "        label_tensors.append(label_tensor)\n",
    "\n",
    "    return data_tensors, label_tensors"
   ]
  },
  {
   "cell_type": "markdown",
   "id": "af1cf0eb",
   "metadata": {},
   "source": [
    "## Function: create_data_loaders\n",
    "This function creates DataLoader objects for the train and test datasets."
   ]
  },
  {
   "cell_type": "code",
   "execution_count": 5,
   "id": "d4fea1e5",
   "metadata": {},
   "outputs": [],
   "source": [
    "def create_data_loaders(train_data, train_labels, test_data, test_labels, batch_size=180):\n",
    "    train_transform = transforms.Compose([\n",
    "        transforms.ToTensor()\n",
    "    ])\n",
    "\n",
    "    test_transform = transforms.Compose([\n",
    "        transforms.ToTensor()\n",
    "    ])\n",
    "\n",
    "    train_dataset = TensorDataset(train_data, train_labels)\n",
    "    test_dataset = TensorDataset(test_data, test_labels)\n",
    "\n",
    "    train_loader = DataLoader(train_dataset, batch_size=batch_size, shuffle=True, num_workers=2)\n",
    "    test_loader = DataLoader(test_dataset, batch_size=batch_size, shuffle=False, num_workers=2)\n",
    "\n",
    "    return train_loader, test_loader\n"
   ]
  },
  {
   "cell_type": "markdown",
   "id": "89f4aa10",
   "metadata": {},
   "source": [
    "## Function: train_model\n",
    "This function trains the model using the provided training data."
   ]
  },
  {
   "cell_type": "code",
   "execution_count": 6,
   "id": "896f5d7f",
   "metadata": {},
   "outputs": [],
   "source": [
    "def train_model(model, train_loader, criterion, optimizer, device):\n",
    "    model.train()\n",
    "    running_loss = 0.0\n",
    "    for inputs, labels in train_loader:\n",
    "        inputs, labels = inputs.to(device), labels.to(device)\n",
    "\n",
    "        optimizer.zero_grad()\n",
    "        outputs = model(inputs)\n",
    "        loss = criterion(outputs, labels)\n",
    "        loss.backward()\n",
    "        optimizer.step()\n",
    "\n",
    "        running_loss += loss.item()\n",
    "\n",
    "    return running_loss / len(train_loader)\n"
   ]
  },
  {
   "cell_type": "markdown",
   "id": "d35939a7",
   "metadata": {},
   "source": [
    " ## Function: test_model\n",
    " This function tests the model using the provided test data and returns the accuracy."
   ]
  },
  {
   "cell_type": "code",
   "execution_count": 7,
   "id": "6e37d9e9",
   "metadata": {},
   "outputs": [],
   "source": [
    "def test_model(model, test_loader, device):\n",
    "    model.eval()\n",
    "    correct = 0\n",
    "    total = 0\n",
    "\n",
    "    with torch.no_grad():\n",
    "        for inputs, labels in test_loader:\n",
    "            inputs, labels = inputs.to(device), labels.to(device)\n",
    "\n",
    "            outputs = model(inputs)\n",
    "            _, predicted = torch.max(outputs.data, 1)\n",
    "\n",
    "            total += labels.size(0)\n",
    "            correct += (predicted == labels).sum().item()\n",
    "\n",
    "    return 100 * correct / total"
   ]
  },
  {
   "cell_type": "markdown",
   "id": "a08076af",
   "metadata": {},
   "source": [
    "## Function: test_train\n",
    "This training and testing (after every epoch) are executed."
   ]
  },
  {
   "cell_type": "code",
   "execution_count": 8,
   "id": "285fe75c",
   "metadata": {},
   "outputs": [],
   "source": [
    "def test_train(src_folder, num_epochs=100):\n",
    "    device = torch.device(\"cuda:3\" if torch.cuda.is_available() else \"cpu\")\n",
    "\n",
    "    # Load data and labels\n",
    "    train_data, test_data, _ = load_data_and_labels(src_folder)[0]\n",
    "    train_labels, test_labels, _ = load_data_and_labels(src_folder)[1]\n",
    "\n",
    "    # Create data loaders\n",
    "    train_loader, test_loader = create_data_loaders(train_data, train_labels, test_data, test_labels)\n",
    "\n",
    "    # Load EfficientNet model\n",
    "    model = create_model(\"efficientnet_b0\", pretrained=True, num_classes=2, in_chans=1)\n",
    "    \n",
    "    model = model.to(device)\n",
    "\n",
    "    # Set up the criterion and optimizer\n",
    "    criterion = nn.CrossEntropyLoss()\n",
    "    optimizer = optim.Adam(model.parameters(), lr=0.001, betas=(0.9, 0.999), weight_decay=5e-4)\n",
    "\n",
    "    for epoch in range(num_epochs):\n",
    "        train_loss = train_model(model, train_loader, criterion, optimizer, device)\n",
    "        test_accuracy = test_model(model, test_loader, device)\n",
    "\n",
    "        print(f\"Epoch {epoch + 1}/{num_epochs}, Loss: {train_loss:.4f}, Test accuracy: {test_accuracy:.2f}%\")\n",
    "\n",
    "        # Adjust learning rate\n",
    "        if (epoch + 1) % 30 == 0:\n",
    "            for param_group in optimizer.param_groups:\n",
    "                param_group['lr'] *= 0.1\n"
   ]
  },
  {
   "cell_type": "markdown",
   "id": "6b77333b",
   "metadata": {},
   "source": [
    "# Step 1: Create a randomly permuted version of the dataset cifar10_binary"
   ]
  },
  {
   "cell_type": "code",
   "execution_count": 59,
   "id": "10dbf9a5",
   "metadata": {},
   "outputs": [],
   "source": [
    "src_folder = \"user_datasets/cifar10_binary\"\n",
    "dst_folder = \"user_datasets/cifar10_binary_rand_perm\"\n",
    "perm_path = None\n",
    "\n",
    "if os.path.exists(dst_folder):\n",
    "    shutil.rmtree(dst_folder)  # Deletes the contents of the folder\n",
    "\n",
    "os.makedirs(dst_folder)  # Creates the folder\n",
    "\n",
    "load_and_permute_data(src_folder, dst_folder, perm_path=perm_path)"
   ]
  },
  {
   "cell_type": "markdown",
   "id": "420cc9ee",
   "metadata": {},
   "source": [
    "# Step 2: Rearrange the permuted features using Feature Rearrangement algorithm & IGTD\n",
    "\n",
    "To do this, first change the 'data_dir_name' field in the yaml config files \n",
    "'configs/cifar10_binary_restruct_feature_rearrangement_algorithm_config.yaml' and 'configs/cifar10_binary_restruct_igtd_config.yaml'\n",
    "to cifar10_binary_rand_perm. Then, run the following commands:\n"
   ]
  },
  {
   "cell_type": "code",
   "execution_count": 61,
   "id": "207ac34e",
   "metadata": {},
   "outputs": [],
   "source": [
    "!python3 restructure_data.py configs/cifar10_binary_restruct_feature_rearrangement_algorithm_config.yaml\n",
    "!python3 restructure_data.py configs/cifar10_binary_restruct_igtd_config.yaml"
   ]
  },
  {
   "cell_type": "markdown",
   "id": "9283a836",
   "metadata": {},
   "source": [
    "## Testing: Feature Rearrangement algorithm rearranged features"
   ]
  },
  {
   "cell_type": "markdown",
   "source": [
    "# Step 3: Create versions of the dataset with features rearranged using Feature Rearrangement algorithm and IGTD\n"
   ],
   "metadata": {
    "collapsed": false
   }
  },
  {
   "cell_type": "code",
   "execution_count": 62,
   "outputs": [
    {
     "name": "stdout",
     "output_type": "stream",
     "text": [
      "Loaded permutation from user_datasets/cifar10_binary_rand_perm/rearrangement_alg3.pkl\n",
      "Loaded permutation from user_datasets/cifar10_binary_rand_perm/rearrangement_igtd.pkl\n"
     ]
    }
   ],
   "source": [
    "# Create a version of the randomly permuted dataset with features rearranged using Feature Rearrangement algorithm\n",
    "src_folder = \"user_datasets/cifar10_binary_rand_perm\"\n",
    "dst_folder = \"user_datasets/cifar10_binary_feature_rearrangement_algorithm_rearr\"\n",
    "perm_path = \"user_datasets/cifar10_binary_rand_perm/rearrangement_feature_rearrangement_algorithm.pkl\"\n",
    "\n",
    "if os.path.exists(dst_folder):\n",
    "    shutil.rmtree(dst_folder)  # Deletes the contents of the folder\n",
    "\n",
    "os.makedirs(dst_folder)  # Creates the folder\n",
    "\n",
    "load_and_permute_data(src_folder, dst_folder, perm_path=perm_path)\n",
    "\n",
    "# Create a version of the randomly permuted dataset with features rearranged using IGTD\n",
    "src_folder = \"user_datasets/cifar10_binary_rand_perm\"\n",
    "dst_folder = \"user_datasets/cifar10_binary_igtd_rearr\"\n",
    "perm_path = \"user_datasets/cifar10_binary_rand_perm/rearrangement_igtd.pkl\"\n",
    "\n",
    "if os.path.exists(dst_folder):\n",
    "    shutil.rmtree(dst_folder)  # Deletes the contents of the folder\n",
    "\n",
    "os.makedirs(dst_folder)  # Creates the folder\n",
    "\n",
    "load_and_permute_data(src_folder, dst_folder, perm_path=perm_path)"
   ],
   "metadata": {
    "collapsed": false
   }
  },
  {
   "cell_type": "markdown",
   "source": [
    "# Step 4: Test the utility of the different rearrangements"
   ],
   "metadata": {
    "collapsed": false
   }
  },
  {
   "cell_type": "markdown",
   "source": [
    "## Testing: Randomly permuted features"
   ],
   "metadata": {
    "collapsed": false
   }
  },
  {
   "cell_type": "code",
   "execution_count": null,
   "outputs": [
    {
     "name": "stdout",
     "output_type": "stream",
     "text": [
      "Epoch 1/100, Loss: 3.9407, Test accuracy: 54.32%\n",
      "Epoch 2/100, Loss: 1.2332, Test accuracy: 58.67%\n",
      "Epoch 3/100, Loss: 0.8278, Test accuracy: 63.22%\n",
      "Epoch 4/100, Loss: 0.6545, Test accuracy: 65.42%\n",
      "Epoch 5/100, Loss: 0.6118, Test accuracy: 66.62%\n",
      "Epoch 6/100, Loss: 0.5900, Test accuracy: 65.87%\n",
      "Epoch 7/100, Loss: 0.5700, Test accuracy: 67.42%\n",
      "Epoch 8/100, Loss: 0.5397, Test accuracy: 66.22%\n",
      "Epoch 9/100, Loss: 0.4953, Test accuracy: 64.47%\n",
      "Epoch 10/100, Loss: 0.4384, Test accuracy: 63.97%\n",
      "Epoch 11/100, Loss: 0.3579, Test accuracy: 63.47%\n",
      "Epoch 12/100, Loss: 0.3124, Test accuracy: 64.42%\n",
      "Epoch 13/100, Loss: 0.2473, Test accuracy: 63.77%\n",
      "Epoch 14/100, Loss: 0.2163, Test accuracy: 64.12%\n",
      "Epoch 15/100, Loss: 0.2198, Test accuracy: 66.37%\n",
      "Epoch 16/100, Loss: 0.1848, Test accuracy: 64.37%\n",
      "Epoch 17/100, Loss: 0.1746, Test accuracy: 64.42%\n",
      "Epoch 18/100, Loss: 0.1508, Test accuracy: 65.47%\n",
      "Epoch 19/100, Loss: 0.1474, Test accuracy: 66.47%\n",
      "Epoch 20/100, Loss: 0.1056, Test accuracy: 64.97%\n",
      "Epoch 21/100, Loss: 0.1652, Test accuracy: 65.42%\n",
      "Epoch 22/100, Loss: 0.1241, Test accuracy: 65.12%\n",
      "Epoch 23/100, Loss: 0.1528, Test accuracy: 63.52%\n",
      "Epoch 24/100, Loss: 0.5670, Test accuracy: 67.22%\n",
      "Epoch 25/100, Loss: 0.4643, Test accuracy: 66.37%\n",
      "Epoch 26/100, Loss: 0.3570, Test accuracy: 65.92%\n",
      "Epoch 27/100, Loss: 0.2242, Test accuracy: 64.72%\n",
      "Epoch 28/100, Loss: 0.1924, Test accuracy: 65.87%\n",
      "Epoch 29/100, Loss: 0.1222, Test accuracy: 65.92%\n",
      "Epoch 30/100, Loss: 0.1328, Test accuracy: 65.42%\n",
      "Epoch 31/100, Loss: 0.0743, Test accuracy: 65.72%\n",
      "Epoch 32/100, Loss: 0.0557, Test accuracy: 66.17%\n",
      "Epoch 33/100, Loss: 0.0460, Test accuracy: 66.37%\n",
      "Epoch 34/100, Loss: 0.0418, Test accuracy: 66.02%\n",
      "Epoch 35/100, Loss: 0.0342, Test accuracy: 66.47%\n",
      "Epoch 36/100, Loss: 0.0358, Test accuracy: 65.77%\n",
      "Epoch 37/100, Loss: 0.0384, Test accuracy: 65.97%\n",
      "Epoch 38/100, Loss: 0.0431, Test accuracy: 65.22%\n",
      "Epoch 39/100, Loss: 0.0307, Test accuracy: 65.62%\n",
      "Epoch 40/100, Loss: 0.0318, Test accuracy: 65.42%\n",
      "Epoch 41/100, Loss: 0.0275, Test accuracy: 66.02%\n",
      "Epoch 42/100, Loss: 0.0263, Test accuracy: 66.27%\n",
      "Epoch 43/100, Loss: 0.0274, Test accuracy: 66.22%\n",
      "Epoch 44/100, Loss: 0.0235, Test accuracy: 66.17%\n",
      "Epoch 45/100, Loss: 0.0335, Test accuracy: 66.07%\n",
      "Epoch 46/100, Loss: 0.0338, Test accuracy: 65.62%\n",
      "Epoch 47/100, Loss: 0.0280, Test accuracy: 65.72%\n",
      "Epoch 48/100, Loss: 0.0223, Test accuracy: 65.47%\n",
      "Epoch 49/100, Loss: 0.0248, Test accuracy: 66.27%\n",
      "Epoch 50/100, Loss: 0.0215, Test accuracy: 65.97%\n"
     ]
    }
   ],
   "source": [
    "src_folder = \"user_datasets/cifar10_binary_rand_perm\"\n",
    "test_train(src_folder, num_epochs=100)"
   ],
   "metadata": {
    "collapsed": false
   }
  },
  {
   "cell_type": "code",
   "execution_count": 9,
   "id": "4500bfad",
   "metadata": {},
   "outputs": [
    {
     "name": "stdout",
     "output_type": "stream",
     "text": [
      "Epoch 1/100, Loss: 3.6906, Test accuracy: 54.92%\n",
      "Epoch 2/100, Loss: 1.2459, Test accuracy: 66.77%\n",
      "Epoch 3/100, Loss: 0.7683, Test accuracy: 67.72%\n",
      "Epoch 4/100, Loss: 0.5928, Test accuracy: 70.36%\n",
      "Epoch 5/100, Loss: 0.5501, Test accuracy: 71.11%\n",
      "Epoch 6/100, Loss: 0.5229, Test accuracy: 72.36%\n",
      "Epoch 7/100, Loss: 0.4849, Test accuracy: 72.01%\n",
      "Epoch 8/100, Loss: 0.4386, Test accuracy: 72.06%\n",
      "Epoch 9/100, Loss: 0.3822, Test accuracy: 71.26%\n",
      "Epoch 10/100, Loss: 0.3333, Test accuracy: 71.16%\n",
      "Epoch 11/100, Loss: 0.3112, Test accuracy: 71.26%\n",
      "Epoch 12/100, Loss: 0.4136, Test accuracy: 72.91%\n",
      "Epoch 13/100, Loss: 0.3597, Test accuracy: 72.56%\n",
      "Epoch 14/100, Loss: 0.2437, Test accuracy: 71.31%\n",
      "Epoch 15/100, Loss: 0.1969, Test accuracy: 72.06%\n",
      "Epoch 16/100, Loss: 0.1632, Test accuracy: 71.76%\n",
      "Epoch 17/100, Loss: 0.1232, Test accuracy: 72.46%\n",
      "Epoch 18/100, Loss: 0.1542, Test accuracy: 71.61%\n",
      "Epoch 19/100, Loss: 0.1249, Test accuracy: 73.26%\n",
      "Epoch 20/100, Loss: 0.0720, Test accuracy: 71.46%\n",
      "Epoch 21/100, Loss: 0.0710, Test accuracy: 72.81%\n",
      "Epoch 22/100, Loss: 0.0669, Test accuracy: 73.86%\n",
      "Epoch 23/100, Loss: 0.0702, Test accuracy: 72.76%\n",
      "Epoch 24/100, Loss: 0.0699, Test accuracy: 72.56%\n",
      "Epoch 25/100, Loss: 0.0807, Test accuracy: 72.51%\n",
      "Epoch 26/100, Loss: 0.0888, Test accuracy: 72.66%\n",
      "Epoch 27/100, Loss: 0.0525, Test accuracy: 70.76%\n",
      "Epoch 28/100, Loss: 0.0446, Test accuracy: 72.46%\n",
      "Epoch 29/100, Loss: 0.0466, Test accuracy: 73.01%\n",
      "Epoch 30/100, Loss: 0.0451, Test accuracy: 72.96%\n",
      "Epoch 31/100, Loss: 0.0448, Test accuracy: 73.41%\n",
      "Epoch 32/100, Loss: 0.0249, Test accuracy: 73.81%\n",
      "Epoch 33/100, Loss: 0.0187, Test accuracy: 74.01%\n",
      "Epoch 34/100, Loss: 0.0157, Test accuracy: 73.96%\n",
      "Epoch 35/100, Loss: 0.0146, Test accuracy: 73.56%\n",
      "Epoch 36/100, Loss: 0.0151, Test accuracy: 73.81%\n",
      "Epoch 37/100, Loss: 0.0154, Test accuracy: 72.86%\n",
      "Epoch 38/100, Loss: 0.0107, Test accuracy: 73.06%\n",
      "Epoch 39/100, Loss: 0.0196, Test accuracy: 73.16%\n",
      "Epoch 40/100, Loss: 0.0085, Test accuracy: 73.66%\n",
      "Epoch 41/100, Loss: 0.0099, Test accuracy: 73.41%\n",
      "Epoch 42/100, Loss: 0.0094, Test accuracy: 73.81%\n",
      "Epoch 43/100, Loss: 0.0085, Test accuracy: 73.71%\n",
      "Epoch 44/100, Loss: 0.0052, Test accuracy: 74.21%\n",
      "Epoch 45/100, Loss: 0.0077, Test accuracy: 73.96%\n",
      "Epoch 46/100, Loss: 0.0062, Test accuracy: 74.01%\n",
      "Epoch 47/100, Loss: 0.0079, Test accuracy: 74.51%\n",
      "Epoch 48/100, Loss: 0.0039, Test accuracy: 73.76%\n",
      "Epoch 49/100, Loss: 0.0076, Test accuracy: 74.01%\n",
      "Epoch 50/100, Loss: 0.0086, Test accuracy: 73.91%\n",
      "Epoch 51/100, Loss: 0.0129, Test accuracy: 74.16%\n",
      "Epoch 52/100, Loss: 0.0103, Test accuracy: 74.11%\n",
      "Epoch 53/100, Loss: 0.0084, Test accuracy: 73.81%\n",
      "Epoch 54/100, Loss: 0.0073, Test accuracy: 73.46%\n",
      "Epoch 55/100, Loss: 0.0042, Test accuracy: 73.91%\n",
      "Epoch 56/100, Loss: 0.0046, Test accuracy: 74.26%\n",
      "Epoch 57/100, Loss: 0.0034, Test accuracy: 73.66%\n",
      "Epoch 58/100, Loss: 0.0069, Test accuracy: 74.36%\n",
      "Epoch 59/100, Loss: 0.0090, Test accuracy: 74.46%\n",
      "Epoch 60/100, Loss: 0.0071, Test accuracy: 73.71%\n",
      "Epoch 61/100, Loss: 0.0030, Test accuracy: 73.46%\n",
      "Epoch 62/100, Loss: 0.0039, Test accuracy: 74.21%\n",
      "Epoch 63/100, Loss: 0.0028, Test accuracy: 73.66%\n",
      "Epoch 64/100, Loss: 0.0036, Test accuracy: 74.06%\n",
      "Epoch 65/100, Loss: 0.0035, Test accuracy: 73.76%\n",
      "Epoch 66/100, Loss: 0.0044, Test accuracy: 73.61%\n",
      "Epoch 67/100, Loss: 0.0030, Test accuracy: 73.96%\n",
      "Epoch 68/100, Loss: 0.0034, Test accuracy: 74.21%\n",
      "Epoch 69/100, Loss: 0.0056, Test accuracy: 73.61%\n",
      "Epoch 70/100, Loss: 0.0062, Test accuracy: 73.41%\n",
      "Epoch 71/100, Loss: 0.0039, Test accuracy: 74.01%\n",
      "Epoch 72/100, Loss: 0.0098, Test accuracy: 74.11%\n",
      "Epoch 73/100, Loss: 0.0072, Test accuracy: 73.46%\n",
      "Epoch 74/100, Loss: 0.0049, Test accuracy: 73.91%\n",
      "Epoch 75/100, Loss: 0.0029, Test accuracy: 73.26%\n",
      "Epoch 76/100, Loss: 0.0056, Test accuracy: 73.91%\n",
      "Epoch 77/100, Loss: 0.0069, Test accuracy: 73.96%\n",
      "Epoch 78/100, Loss: 0.0030, Test accuracy: 73.86%\n",
      "Epoch 79/100, Loss: 0.0068, Test accuracy: 73.81%\n",
      "Epoch 80/100, Loss: 0.0045, Test accuracy: 74.21%\n",
      "Epoch 81/100, Loss: 0.0035, Test accuracy: 73.51%\n",
      "Epoch 82/100, Loss: 0.0036, Test accuracy: 73.51%\n",
      "Epoch 83/100, Loss: 0.0104, Test accuracy: 74.26%\n",
      "Epoch 84/100, Loss: 0.0043, Test accuracy: 73.81%\n",
      "Epoch 85/100, Loss: 0.0019, Test accuracy: 73.96%\n",
      "Epoch 86/100, Loss: 0.0071, Test accuracy: 73.76%\n",
      "Epoch 87/100, Loss: 0.0101, Test accuracy: 74.16%\n",
      "Epoch 88/100, Loss: 0.0043, Test accuracy: 73.46%\n",
      "Epoch 89/100, Loss: 0.0032, Test accuracy: 73.36%\n",
      "Epoch 90/100, Loss: 0.0033, Test accuracy: 73.36%\n",
      "Epoch 91/100, Loss: 0.0042, Test accuracy: 73.86%\n",
      "Epoch 92/100, Loss: 0.0033, Test accuracy: 74.06%\n",
      "Epoch 93/100, Loss: 0.0039, Test accuracy: 74.01%\n",
      "Epoch 94/100, Loss: 0.0035, Test accuracy: 73.61%\n",
      "Epoch 95/100, Loss: 0.0058, Test accuracy: 73.61%\n",
      "Epoch 96/100, Loss: 0.0022, Test accuracy: 74.16%\n",
      "Epoch 97/100, Loss: 0.0050, Test accuracy: 73.76%\n",
      "Epoch 98/100, Loss: 0.0018, Test accuracy: 74.01%\n",
      "Epoch 99/100, Loss: 0.0063, Test accuracy: 74.16%\n",
      "Epoch 100/100, Loss: 0.0207, Test accuracy: 74.16%\n"
     ]
    }
   ],
   "source": [
    "src_folder = \"user_datasets/cifar10_binary_feature_rearrangement_algorithm_rearr\"\n",
    "test_train(src_folder, num_epochs=100)"
   ]
  },
  {
   "cell_type": "markdown",
   "id": "0d0a58bf",
   "metadata": {},
   "source": [
    "## Testing: IGTD rearranged features"
   ]
  },
  {
   "cell_type": "code",
   "execution_count": null,
   "id": "f56be19e",
   "metadata": {},
   "outputs": [
    {
     "name": "stdout",
     "output_type": "stream",
     "text": [
      "Epoch 1/100, Loss: 3.5318, Test accuracy: 58.07%\n",
      "Epoch 2/100, Loss: 1.2353, Test accuracy: 65.92%\n",
      "Epoch 3/100, Loss: 0.7157, Test accuracy: 67.57%\n",
      "Epoch 4/100, Loss: 0.5944, Test accuracy: 69.12%\n",
      "Epoch 5/100, Loss: 0.5369, Test accuracy: 68.12%\n",
      "Epoch 6/100, Loss: 0.5420, Test accuracy: 68.82%\n",
      "Epoch 7/100, Loss: 0.5125, Test accuracy: 69.02%\n",
      "Epoch 8/100, Loss: 0.5743, Test accuracy: 67.57%\n",
      "Epoch 9/100, Loss: 0.5396, Test accuracy: 68.42%\n",
      "Epoch 10/100, Loss: 0.5774, Test accuracy: 69.72%\n",
      "Epoch 11/100, Loss: 0.5807, Test accuracy: 69.87%\n",
      "Epoch 12/100, Loss: 0.5268, Test accuracy: 69.27%\n",
      "Epoch 13/100, Loss: 0.5145, Test accuracy: 69.92%\n",
      "Epoch 14/100, Loss: 0.4464, Test accuracy: 68.77%\n",
      "Epoch 15/100, Loss: 0.3587, Test accuracy: 68.32%\n",
      "Epoch 16/100, Loss: 0.2870, Test accuracy: 68.72%\n",
      "Epoch 17/100, Loss: 0.2344, Test accuracy: 66.87%\n",
      "Epoch 18/100, Loss: 0.2247, Test accuracy: 66.97%\n",
      "Epoch 19/100, Loss: 0.1595, Test accuracy: 68.37%\n",
      "Epoch 20/100, Loss: 0.1490, Test accuracy: 66.92%\n",
      "Epoch 21/100, Loss: 0.1620, Test accuracy: 68.22%\n",
      "Epoch 22/100, Loss: 0.1220, Test accuracy: 67.97%\n",
      "Epoch 23/100, Loss: 0.1102, Test accuracy: 68.52%\n",
      "Epoch 24/100, Loss: 0.1464, Test accuracy: 66.97%\n",
      "Epoch 25/100, Loss: 0.1163, Test accuracy: 66.32%\n",
      "Epoch 26/100, Loss: 0.1071, Test accuracy: 68.52%\n",
      "Epoch 27/100, Loss: 0.1198, Test accuracy: 66.42%\n",
      "Epoch 28/100, Loss: 0.1223, Test accuracy: 67.42%\n",
      "Epoch 29/100, Loss: 0.0731, Test accuracy: 70.21%\n",
      "Epoch 30/100, Loss: 0.0812, Test accuracy: 68.52%\n",
      "Epoch 31/100, Loss: 0.0513, Test accuracy: 69.97%\n",
      "Epoch 32/100, Loss: 0.0336, Test accuracy: 69.87%\n",
      "Epoch 33/100, Loss: 0.0296, Test accuracy: 70.31%\n",
      "Epoch 34/100, Loss: 0.0273, Test accuracy: 69.87%\n",
      "Epoch 35/100, Loss: 0.0228, Test accuracy: 70.36%\n",
      "Epoch 36/100, Loss: 0.0264, Test accuracy: 68.97%\n",
      "Epoch 37/100, Loss: 0.0171, Test accuracy: 70.46%\n",
      "Epoch 38/100, Loss: 0.0342, Test accuracy: 70.51%\n",
      "Epoch 39/100, Loss: 0.0250, Test accuracy: 69.82%\n",
      "Epoch 40/100, Loss: 0.0238, Test accuracy: 70.06%\n",
      "Epoch 41/100, Loss: 0.0151, Test accuracy: 70.16%\n",
      "Epoch 42/100, Loss: 0.0169, Test accuracy: 70.91%\n",
      "Epoch 43/100, Loss: 0.0175, Test accuracy: 70.11%\n",
      "Epoch 44/100, Loss: 0.0215, Test accuracy: 70.86%\n",
      "Epoch 45/100, Loss: 0.0152, Test accuracy: 70.31%\n",
      "Epoch 46/100, Loss: 0.0213, Test accuracy: 70.56%\n",
      "Epoch 47/100, Loss: 0.0125, Test accuracy: 70.81%\n",
      "Epoch 48/100, Loss: 0.0114, Test accuracy: 70.91%\n",
      "Epoch 49/100, Loss: 0.0126, Test accuracy: 71.06%\n",
      "Epoch 50/100, Loss: 0.0154, Test accuracy: 71.61%\n",
      "Epoch 51/100, Loss: 0.0124, Test accuracy: 71.01%\n",
      "Epoch 52/100, Loss: 0.0152, Test accuracy: 71.11%\n",
      "Epoch 53/100, Loss: 0.0170, Test accuracy: 70.36%\n",
      "Epoch 54/100, Loss: 0.0159, Test accuracy: 70.36%\n",
      "Epoch 55/100, Loss: 0.0154, Test accuracy: 70.46%\n",
      "Epoch 56/100, Loss: 0.0182, Test accuracy: 70.11%\n",
      "Epoch 57/100, Loss: 0.0152, Test accuracy: 70.36%\n",
      "Epoch 58/100, Loss: 0.0154, Test accuracy: 69.97%\n",
      "Epoch 59/100, Loss: 0.0093, Test accuracy: 70.01%\n",
      "Epoch 60/100, Loss: 0.0118, Test accuracy: 70.21%\n",
      "Epoch 61/100, Loss: 0.0129, Test accuracy: 70.51%\n",
      "Epoch 62/100, Loss: 0.0111, Test accuracy: 70.01%\n",
      "Epoch 63/100, Loss: 0.0088, Test accuracy: 69.97%\n",
      "Epoch 64/100, Loss: 0.0077, Test accuracy: 70.41%\n"
     ]
    }
   ],
   "source": [
    "src_folder = \"user_datasets/cifar10_binary_igtd_rearr\"\n",
    "test_train(src_folder, num_epochs=100)"
   ]
  },
  {
   "cell_type": "code",
   "execution_count": null,
   "id": "8cee7cf8",
   "metadata": {},
   "outputs": [],
   "source": []
  }
 ],
 "metadata": {
  "kernelspec": {
   "display_name": "Python 3 (ipykernel)",
   "language": "python",
   "name": "python3"
  },
  "language_info": {
   "codemirror_mode": {
    "name": "ipython",
    "version": 3
   },
   "file_extension": ".py",
   "mimetype": "text/x-python",
   "name": "python",
   "nbconvert_exporter": "python",
   "pygments_lexer": "ipython3",
   "version": "3.9.7"
  }
 },
 "nbformat": 4,
 "nbformat_minor": 5
}
